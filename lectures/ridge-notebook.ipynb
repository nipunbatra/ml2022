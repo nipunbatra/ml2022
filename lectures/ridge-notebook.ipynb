{
 "cells": [
  {
   "cell_type": "code",
   "execution_count": 1,
   "id": "cc462483",
   "metadata": {},
   "outputs": [],
   "source": [
    "import numpy as np\n",
    "import matplotlib.pyplot as plt\n",
    "%matplotlib inline"
   ]
  },
  {
   "cell_type": "code",
   "execution_count": 90,
   "id": "d7e6a051",
   "metadata": {},
   "outputs": [
    {
     "name": "stdout",
     "output_type": "stream",
     "text": [
      "[-1.         -0.97979798 -0.95959596 -0.93939394 -0.91919192] (100,)\n",
      "[[-1.        ]\n",
      " [-0.97979798]\n",
      " [-0.95959596]\n",
      " [-0.93939394]\n",
      " [-0.91919192]] (100, 1)\n"
     ]
    }
   ],
   "source": [
    "x = np.linspace(-1., 1., 100)\n",
    "print(x[:5], x.shape)\n",
    "\n",
    "x_1 = x.reshape(-1, 1)\n",
    "print(x_1[:5], x_1.shape)"
   ]
  },
  {
   "cell_type": "code",
   "execution_count": 3,
   "id": "47e749fd",
   "metadata": {},
   "outputs": [],
   "source": [
    "y = 4 + 3*x + 2*np.sin(x) + 2*np.random.randn(len(x))"
   ]
  },
  {
   "cell_type": "code",
   "execution_count": 4,
   "id": "70a44984",
   "metadata": {},
   "outputs": [
    {
     "data": {
      "text/plain": [
       "<matplotlib.collections.PathCollection at 0x10ab60e80>"
      ]
     },
     "execution_count": 4,
     "metadata": {},
     "output_type": "execute_result"
    },
    {
     "data": {
      "image/png": "[encoded data removed]",
      "text/plain": [
       "<Figure size 432x288 with 1 Axes>"
      ]
     },
     "metadata": {
      "needs_background": "light"
     },
     "output_type": "display_data"
    }
   ],
   "source": [
    "plt.scatter(x, y)"
   ]
  },
  {
   "cell_type": "code",
   "execution_count": 5,
   "id": "47283fe0",
   "metadata": {},
   "outputs": [],
   "source": [
    "from sklearn.linear_model import LinearRegression"
   ]
  },
  {
   "cell_type": "code",
   "execution_count": 6,
   "id": "4fa2b845",
   "metadata": {},
   "outputs": [],
   "source": [
    "lr = LinearRegression()"
   ]
  },
  {
   "cell_type": "code",
   "execution_count": 7,
   "id": "4356b3d5",
   "metadata": {},
   "outputs": [
    {
     "data": {
      "text/plain": [
       "LinearRegression()"
      ]
     },
     "execution_count": 7,
     "metadata": {},
     "output_type": "execute_result"
    }
   ],
   "source": [
    "lr.fit(x.reshape(-1, 1), y)"
   ]
  },
  {
   "cell_type": "code",
   "execution_count": 8,
   "id": "5e876741",
   "metadata": {},
   "outputs": [
    {
     "data": {
      "text/plain": [
       "array([5.07706307])"
      ]
     },
     "execution_count": 8,
     "metadata": {},
     "output_type": "execute_result"
    }
   ],
   "source": [
    "lr.coef_"
   ]
  },
  {
   "cell_type": "code",
   "execution_count": 9,
   "id": "9ca5e8ca",
   "metadata": {},
   "outputs": [
    {
     "data": {
      "text/plain": [
       "3.4652950711067247"
      ]
     },
     "execution_count": 9,
     "metadata": {},
     "output_type": "execute_result"
    }
   ],
   "source": [
    "lr.intercept_"
   ]
  },
  {
   "cell_type": "code",
   "execution_count": 11,
   "id": "c3f5428a",
   "metadata": {},
   "outputs": [
    {
     "data": {
      "text/plain": [
       "[<matplotlib.lines.Line2D at 0x11ea69fa0>]"
      ]
     },
     "execution_count": 11,
     "metadata": {},
     "output_type": "execute_result"
    },
    {
     "data": {
      "image/png": "[encoded data removed]",
      "text/plain": [
       "<Figure size 432x288 with 1 Axes>"
      ]
     },
     "metadata": {
      "needs_background": "light"
     },
     "output_type": "display_data"
    }
   ],
   "source": [
    "plt.scatter(x, y)\n",
    "y_pred = lr.predict(x.reshape(-1, 1))\n",
    "plt.plot(x, y_pred)"
   ]
  },
  {
   "cell_type": "code",
   "execution_count": 12,
   "id": "203ab7a7",
   "metadata": {},
   "outputs": [],
   "source": [
    "from sklearn.preprocessing import PolynomialFeatures"
   ]
  },
  {
   "cell_type": "code",
   "execution_count": 13,
   "id": "1a6b0bab",
   "metadata": {},
   "outputs": [],
   "source": [
    "PolynomialFeatures?"
   ]
  },
  {
   "cell_type": "code",
   "execution_count": 128,
   "id": "36ee3731",
   "metadata": {},
   "outputs": [],
   "source": [
    "poly = PolynomialFeatures(degree=120, include_bias=False)"
   ]
  },
  {
   "cell_type": "code",
   "execution_count": 129,
   "id": "808b67a0",
   "metadata": {},
   "outputs": [],
   "source": [
    "x_new = poly.fit_transform(x.reshape(-1, 1))"
   ]
  },
  {
   "cell_type": "code",
   "execution_count": 130,
   "id": "332861f1",
   "metadata": {},
   "outputs": [
    {
     "data": {
      "text/plain": [
       "(100, 120)"
      ]
     },
     "execution_count": 130,
     "metadata": {},
     "output_type": "execute_result"
    }
   ],
   "source": [
    "x_new.shape"
   ]
  },
  {
   "cell_type": "code",
   "execution_count": 131,
   "id": "afc9c446",
   "metadata": {},
   "outputs": [
    {
     "data": {
      "text/plain": [
       "True"
      ]
     },
     "execution_count": 131,
     "metadata": {},
     "output_type": "execute_result"
    }
   ],
   "source": [
    "np.allclose(x_new[:, 1], x_new[:, 0]**2)"
   ]
  },
  {
   "cell_type": "code",
   "execution_count": 132,
   "id": "0a7c5c88",
   "metadata": {},
   "outputs": [],
   "source": [
    "lr = LinearRegression()"
   ]
  },
  {
   "cell_type": "code",
   "execution_count": 133,
   "id": "3824954a",
   "metadata": {},
   "outputs": [
    {
     "data": {
      "text/plain": [
       "LinearRegression()"
      ]
     },
     "execution_count": 133,
     "metadata": {},
     "output_type": "execute_result"
    }
   ],
   "source": [
    "lr.fit(x_new, y)"
   ]
  },
  {
   "cell_type": "code",
   "execution_count": 134,
   "id": "4994221d",
   "metadata": {},
   "outputs": [
    {
     "data": {
      "text/plain": [
       "array([ 1.00000000e+01,  8.05000000e+02,  1.92000000e+02, -6.98500000e+04,\n",
       "       -9.78910000e+04,  2.58692400e+06,  7.03355700e+06, -5.43776260e+07,\n",
       "       -2.31537516e+08,  7.47035483e+08,  4.36390764e+09, -7.39755975e+09,\n",
       "       -5.22027142e+10,  5.68136452e+10,  4.19183647e+11, -3.50649221e+11,\n",
       "       -2.32539052e+12,  1.72183383e+12,  8.97394127e+12, -6.45868131e+12,\n",
       "       -2.36444581e+13,  1.74954303e+13,  3.97817185e+13, -3.14641223e+13,\n",
       "       -3.38919821e+13,  3.06795409e+13, -5.66848095e+12, -1.25047947e+12,\n",
       "        3.42878102e+13, -2.58173420e+13, -4.15303444e+12,  4.24308061e+12,\n",
       "       -2.64495572e+13,  2.63658102e+13, -8.12482399e+12,  2.06427227e+11,\n",
       "        2.14910263e+13, -1.81754023e+13,  2.22388625e+13, -1.78575984e+13,\n",
       "       -5.49502475e+12,  4.45415892e+12, -2.29335451e+13,  2.40652927e+13,\n",
       "       -1.87614412e+13,  1.71527621e+13,  3.92620728e+12, -6.17884396e+12,\n",
       "        1.88663168e+13, -2.05004266e+13,  2.18910299e+13, -1.95461057e+13,\n",
       "        6.74255635e+12, -6.75252796e+12, -1.07966073e+13,  1.11802789e+13,\n",
       "       -2.07128918e+13,  2.38284018e+13, -1.92088294e+13,  1.84071383e+13,\n",
       "       -5.64492944e+12,  6.99417781e+12,  1.07161209e+13, -1.02970698e+13,\n",
       "        1.74430826e+13, -2.18641349e+13,  1.80693738e+13, -2.31189086e+13,\n",
       "        1.12911376e+13, -1.38710526e+13,  5.58548707e+11,  4.00323086e+12,\n",
       "       -1.22449670e+13,  1.55550581e+13, -1.89901944e+13,  2.21520800e+13,\n",
       "       -1.69018861e+13,  2.14550313e+13, -1.23777685e+13,  1.38511640e+13,\n",
       "        1.35577427e+12, -3.58875763e+12,  1.10913126e+13, -1.62867005e+13,\n",
       "        1.68999055e+13, -2.25072469e+13,  1.81163433e+13, -2.03552185e+13,\n",
       "        1.41709670e+13, -1.34068940e+13,  5.51771055e+11, -3.66732420e+12,\n",
       "       -4.13461381e+12,  8.50244434e+12, -1.68731056e+13,  2.03318618e+13,\n",
       "       -1.64880646e+13,  2.28733099e+13, -1.65880297e+13,  1.92110306e+13,\n",
       "       -8.92166024e+12,  1.01470774e+13,  6.77474530e+12, -7.06690091e+12,\n",
       "        1.06191845e+13, -1.82208560e+13,  2.00065101e+13, -2.62117830e+13,\n",
       "        1.55664365e+13, -1.99483255e+13,  8.28103596e+12, -6.84309798e+12,\n",
       "       -9.84402544e+12,  1.70909811e+13, -2.17345614e+13,  2.40432842e+13,\n",
       "       -2.01209887e+13,  2.39086578e+13,  2.29480225e+13, -2.83632056e+13])"
      ]
     },
     "execution_count": 134,
     "metadata": {},
     "output_type": "execute_result"
    }
   ],
   "source": [
    "np.around(lr.coef_, 0)"
   ]
  },
  {
   "cell_type": "code",
   "execution_count": 135,
   "id": "88b450b5",
   "metadata": {},
   "outputs": [
    {
     "data": {
      "text/plain": [
       "39781718507208.28"
      ]
     },
     "execution_count": 135,
     "metadata": {},
     "output_type": "execute_result"
    }
   ],
   "source": [
    "np.round(np.max(lr.coef_), 2)"
   ]
  },
  {
   "cell_type": "code",
   "execution_count": null,
   "id": "da0d4d17",
   "metadata": {},
   "outputs": [],
   "source": []
  },
  {
   "cell_type": "code",
   "execution_count": 136,
   "id": "58912799",
   "metadata": {},
   "outputs": [
    {
     "data": {
      "text/plain": [
       "1.7318966336067252"
      ]
     },
     "execution_count": 136,
     "metadata": {},
     "output_type": "execute_result"
    }
   ],
   "source": [
    "lr.intercept_"
   ]
  },
  {
   "cell_type": "code",
   "execution_count": 137,
   "id": "13f19eb2",
   "metadata": {},
   "outputs": [
    {
     "data": {
      "text/plain": [
       "Text(0.5, 1.0, 'Error on train set is: 220.69')"
      ]
     },
     "execution_count": 137,
     "metadata": {},
     "output_type": "execute_result"
    },
    {
     "data": {
      "image/png": "[encoded data removed]",
      "text/plain": [
       "<Figure size 432x288 with 1 Axes>"
      ]
     },
     "metadata": {
      "needs_background": "light"
     },
     "output_type": "display_data"
    }
   ],
   "source": [
    "plt.scatter(x, y)\n",
    "y_pred = lr.predict(x_new)\n",
    "plt.plot(x, y_pred)\n",
    "e = (y - y_pred).reshape(-1, 1)\n",
    "plt.title(f\"Error on train set is: {np.round((e.T@e)[0, 0], 2)}\")"
   ]
  },
  {
   "cell_type": "code",
   "execution_count": 138,
   "id": "ba31c2e2",
   "metadata": {},
   "outputs": [
    {
     "data": {
      "text/plain": [
       "14.855806111468029"
      ]
     },
     "execution_count": 138,
     "metadata": {},
     "output_type": "execute_result"
    }
   ],
   "source": [
    "np.linalg.norm(e, 2)"
   ]
  },
  {
   "cell_type": "code",
   "execution_count": 139,
   "id": "42d2fe93",
   "metadata": {},
   "outputs": [],
   "source": [
    "from sklearn.metrics import mean_squared_error"
   ]
  },
  {
   "cell_type": "code",
   "execution_count": null,
   "id": "82bb2568",
   "metadata": {},
   "outputs": [],
   "source": []
  }
 ],
 "metadata": {
  "kernelspec": {
   "display_name": "Python 3 (ipykernel)",
   "language": "python",
   "name": "python3"
  },
  "language_info": {
   "codemirror_mode": {
    "name": "ipython",
    "version": 3
   },
   "file_extension": ".py",
   "mimetype": "text/x-python",
   "name": "python",
   "nbconvert_exporter": "python",
   "pygments_lexer": "ipython3",
   "version": "3.9.7"
  }
 },
 "nbformat": 4,
 "nbformat_minor": 5
}
